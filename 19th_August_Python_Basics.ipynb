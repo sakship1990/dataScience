{
 "cells": [
  {
   "cell_type": "code",
   "execution_count": 3,
   "id": "b1dbf768-79c7-4e3d-a01d-e1d5e6c874f9",
   "metadata": {},
   "outputs": [],
   "source": [
    "#1st que"
   ]
  },
  {
   "cell_type": "code",
   "execution_count": 4,
   "id": "d2902e6f-4470-4431-b1ae-fd5e3daded81",
   "metadata": {},
   "outputs": [],
   "source": [
    "x = 10"
   ]
  },
  {
   "cell_type": "code",
   "execution_count": 5,
   "id": "0e54eb22-08e0-4fd9-a59a-6d66ddf904cf",
   "metadata": {},
   "outputs": [],
   "source": [
    "y = 20"
   ]
  },
  {
   "cell_type": "code",
   "execution_count": 6,
   "id": "dbce942e-f5ba-4138-b4b4-414c79e1c64f",
   "metadata": {},
   "outputs": [],
   "source": [
    "x , y = y, x"
   ]
  },
  {
   "cell_type": "code",
   "execution_count": 7,
   "id": "54b1c32c-085d-44d9-a3db-023b517b5d1f",
   "metadata": {},
   "outputs": [
    {
     "name": "stdout",
     "output_type": "stream",
     "text": [
      "20\n"
     ]
    }
   ],
   "source": [
    "print (x)"
   ]
  },
  {
   "cell_type": "code",
   "execution_count": 8,
   "id": "2ce5df88-dd12-450f-8e7c-2e7538021948",
   "metadata": {},
   "outputs": [
    {
     "name": "stdout",
     "output_type": "stream",
     "text": [
      "10\n"
     ]
    }
   ],
   "source": [
    "print (y)"
   ]
  },
  {
   "cell_type": "code",
   "execution_count": 9,
   "id": "a719baa5-25ff-4491-8cc8-c544d1beb5e1",
   "metadata": {},
   "outputs": [],
   "source": [
    "#2nd que"
   ]
  },
  {
   "cell_type": "code",
   "execution_count": 18,
   "id": "16790588-bff2-4847-908b-4546899be268",
   "metadata": {},
   "outputs": [
    {
     "name": "stdin",
     "output_type": "stream",
     "text": [
      "enter the length of rectangle 10\n"
     ]
    }
   ],
   "source": [
    "lengthOfRect = input('enter the length of rectangle')"
   ]
  },
  {
   "cell_type": "code",
   "execution_count": 11,
   "id": "cf6e1cd8-95d5-45be-856d-194892cf117e",
   "metadata": {},
   "outputs": [
    {
     "name": "stdin",
     "output_type": "stream",
     "text": [
      "enter the width of rectangle 20\n"
     ]
    }
   ],
   "source": [
    "widthOfRect = input('enter the width of rectangle')"
   ]
  },
  {
   "cell_type": "code",
   "execution_count": 19,
   "id": "877d2188-2aef-4972-9851-fbdaacea4790",
   "metadata": {},
   "outputs": [],
   "source": [
    "area = int(lengthOfRect) * int(widthOfRect)"
   ]
  },
  {
   "cell_type": "code",
   "execution_count": 22,
   "id": "681f77c3-5b93-4be9-92fc-6447c0da766b",
   "metadata": {},
   "outputs": [
    {
     "name": "stdout",
     "output_type": "stream",
     "text": [
      "area of rectangle is 200\n"
     ]
    }
   ],
   "source": [
    "print('area of rectangle is',area)"
   ]
  },
  {
   "cell_type": "code",
   "execution_count": 23,
   "id": "71b8255f-55ca-4331-a5f3-ad28fa8c4584",
   "metadata": {},
   "outputs": [],
   "source": [
    "#3rd que"
   ]
  },
  {
   "cell_type": "code",
   "execution_count": 24,
   "id": "5d61ff02-42ba-4451-a166-ca99a599125b",
   "metadata": {},
   "outputs": [
    {
     "name": "stdin",
     "output_type": "stream",
     "text": [
      "Enter the temperature in celsius 100\n"
     ]
    }
   ],
   "source": [
    "temperature = input('Enter the temperature in celsius')"
   ]
  },
  {
   "cell_type": "code",
   "execution_count": 25,
   "id": "75da50ef-fa75-4dd1-86d2-2a88d0b55e22",
   "metadata": {},
   "outputs": [],
   "source": [
    "fahrenheit = (1.8 * float(temperature)) + 32"
   ]
  },
  {
   "cell_type": "code",
   "execution_count": 26,
   "id": "22e17584-f5b0-4f58-b469-faf509d4f140",
   "metadata": {},
   "outputs": [
    {
     "name": "stdout",
     "output_type": "stream",
     "text": [
      "converted value in fahrenheit is 212.0\n"
     ]
    }
   ],
   "source": [
    "print('converted value in fahrenheit is' , fahrenheit)"
   ]
  },
  {
   "cell_type": "code",
   "execution_count": 70,
   "id": "f41575f0-50e4-4f24-9d9e-c4d8d53f04f8",
   "metadata": {},
   "outputs": [
    {
     "name": "stdin",
     "output_type": "stream",
     "text": [
      "Enter your name sakshi pandey\n"
     ]
    },
    {
     "data": {
      "text/plain": [
       "13"
      ]
     },
     "execution_count": 70,
     "metadata": {},
     "output_type": "execute_result"
    }
   ],
   "source": [
    "#TOPIC: String Based Questions\n",
    "#que 1\n",
    "strName = input('Enter your name')\n",
    "len(strName)"
   ]
  },
  {
   "cell_type": "code",
   "execution_count": 30,
   "id": "857ef349-8abf-4e2c-821e-625850eb17ce",
   "metadata": {},
   "outputs": [
    {
     "name": "stdout",
     "output_type": "stream",
     "text": [
      "length of your name is 6\n"
     ]
    }
   ],
   "source": [
    "print('length of your name is' , len(strName))"
   ]
  },
  {
   "cell_type": "code",
   "execution_count": 69,
   "id": "5c66a0a1-d339-4e12-b78b-181d9bc2a1b8",
   "metadata": {},
   "outputs": [
    {
     "name": "stdin",
     "output_type": "stream",
     "text": [
      "Enter the sentence sakshi pandey\n"
     ]
    },
    {
     "name": "stdout",
     "output_type": "stream",
     "text": [
      "No of Vowels are 4\n"
     ]
    }
   ],
   "source": [
    "#que 2\n",
    "strVowel = input('Enter the sentence')\n",
    "count = 0\n",
    "countofVowel = strVowel.count('a') #2\n",
    "count = count + countofVowel #2\n",
    "countofVowel = strVowel.count('e') #1\n",
    "count = count + countofVowel #3\n",
    "countofVowel = strVowel.count('i') #1\n",
    "count = count + countofVowel #4\n",
    "countofVowel = strVowel.count('o')\n",
    "count = count + countofVowel\n",
    "countofVowel = strVowel.count('u')\n",
    "count = count + countofVowel\n",
    "print('No of Vowels are' , count)"
   ]
  },
  {
   "cell_type": "code",
   "execution_count": 68,
   "id": "204ec936-7bf1-4c5a-93ab-47c307bc559a",
   "metadata": {},
   "outputs": [
    {
     "name": "stdin",
     "output_type": "stream",
     "text": [
      "enter string sakshi pandey\n"
     ]
    },
    {
     "name": "stdout",
     "output_type": "stream",
     "text": [
      "yednap ihskas\n"
     ]
    }
   ],
   "source": [
    "#que 3\n",
    "stringInput = input('enter string')\n",
    "stringLength = len(stringInput) +1\n",
    "outputStr = stringInput[-1:-stringLength:-1]\n",
    "print(outputStr)\n"
   ]
  },
  {
   "cell_type": "code",
   "execution_count": 54,
   "id": "10c051e4-b0ba-4980-aed7-c0245a400663",
   "metadata": {},
   "outputs": [],
   "source": [
    "#que 4"
   ]
  },
  {
   "cell_type": "code",
   "execution_count": 65,
   "id": "d19f920e-a7ca-4b2a-aafa-918121a77913",
   "metadata": {},
   "outputs": [
    {
     "name": "stdin",
     "output_type": "stream",
     "text": [
      "entr the string to check the palindrome hello\n"
     ]
    },
    {
     "name": "stdout",
     "output_type": "stream",
     "text": [
      "it is not palindrom\n"
     ]
    }
   ],
   "source": [
    "strpalindrome = input('entr the string to check the palindrome')\n",
    "if(strpalindrome == strpalindrome[ : :-1]):\n",
    "    print('this is palindrom')\n",
    "else:\n",
    "    print('it is not palindrom')"
   ]
  },
  {
   "cell_type": "code",
   "execution_count": 72,
   "id": "850d8e32-9f17-4952-9d48-a5ba179c4139",
   "metadata": {},
   "outputs": [
    {
     "name": "stdin",
     "output_type": "stream",
     "text": [
      "enter the string to remove the space O my God\n"
     ]
    },
    {
     "name": "stdout",
     "output_type": "stream",
     "text": [
      "String after space removal: OmyGod\n"
     ]
    }
   ],
   "source": [
    "#que 5\n",
    "strInput = input('enter the string to remove the space')\n",
    "print(\"String after space removal:\",strInput.replace(' ',''))"
   ]
  },
  {
   "cell_type": "code",
   "execution_count": null,
   "id": "862144c4-ab2c-49de-b32f-93e0d8496a8d",
   "metadata": {},
   "outputs": [],
   "source": []
  }
 ],
 "metadata": {
  "kernelspec": {
   "display_name": "Python 3 (ipykernel)",
   "language": "python",
   "name": "python3"
  },
  "language_info": {
   "codemirror_mode": {
    "name": "ipython",
    "version": 3
   },
   "file_extension": ".py",
   "mimetype": "text/x-python",
   "name": "python",
   "nbconvert_exporter": "python",
   "pygments_lexer": "ipython3",
   "version": "3.10.8"
  }
 },
 "nbformat": 4,
 "nbformat_minor": 5
}
